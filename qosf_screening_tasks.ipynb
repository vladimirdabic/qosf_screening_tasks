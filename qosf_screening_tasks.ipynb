{
 "cells": [
  {
   "cell_type": "markdown",
   "id": "12afe655-69d1-4602-8bdb-ce0bac93f9a4",
   "metadata": {},
   "source": [
    "# QOSF Screening Tasks\n",
    "I've included the solutions and my reasoning for each one. The requirement is one task completed, but I wanted to challenge myself a little, so I've done more than one."
   ]
  },
  {
   "cell_type": "markdown",
   "id": "b241c0ac-696a-4857-be8e-b782cbf004c2",
   "metadata": {},
   "source": [
    "## Task 2 - Complex Amplitudes\n",
    "**Input**: A list or array of four complex amplitudes `[a0, a1, a2, a3]` that define the desired two-qubit state.\n",
    "   - Ensure that the state is normalized:\n",
    "     $|a_0|^2 + |a_1|^2 + |a_2|^2 + |a_3|^2 = 1$.\n",
    "   - If the input is not normalized, include a normalization step.\n",
    "\n",
    "**Output**: A representation of the two-qubit quantum state vector, for example as a NumPy array:\n",
    "     $\\ket{\\psi} = a_0\\ket{00} + a_1\\ket{01} + a_2\\ket{10} + a_3\\ket{11}.$\n",
    " \n",
    " - Do not use quantum-specific state preparation functions from libraries.\n",
    "\n",
    "**Testing**:\n",
    "   - Write unit tests that check:\n",
    "     - Normalization is enforced.\n",
    "     - The output vector has the correct dimension (4 for two qubits).\n",
    "\n",
    "**Stretch Goal**: Generalize the implementation to support a three-qubit state given 8 amplitudes.\n",
    "\n",
    "### Solution\n",
    "---\n",
    "The following solution is already generalized to $n$ qubits. The number of amplitudes must be $2^n$. I think this solution is pretty self-explanatory, you just take an array of complex numbers, normalize them if needed, and check the dimensionality."
   ]
  },
  {
   "cell_type": "code",
   "execution_count": 5,
   "id": "59b5466b-8636-4791-ab96-4673e64a37af",
   "metadata": {},
   "outputs": [],
   "source": [
    "import numpy as np\n",
    "\n",
    "def prepare_state(amplitudes):\n",
    "    state = np.array(amplitudes, dtype=np.complex128)\n",
    "\n",
    "    # Normalize if sum is not 1\n",
    "    norm = np.linalg.norm(state)\n",
    "    if not np.isclose(norm, 1.0):\n",
    "        state = state / norm\n",
    "\n",
    "    # Check dimension (must be 2^n)\n",
    "    n_qubits = int(np.log2(len(state)))\n",
    "    if 2**n_qubits != len(state):\n",
    "        raise ValueError(\"Number of amplitudes must be 2^n for n qubits\")\n",
    "    \n",
    "    return state"
   ]
  },
  {
   "cell_type": "markdown",
   "id": "5a329c15-48cc-4920-b9e6-6bae66473244",
   "metadata": {},
   "source": [
    "The unit tests are provided below."
   ]
  },
  {
   "cell_type": "code",
   "execution_count": null,
   "id": "532a76cb-6a30-469c-8aae-32b270749f35",
   "metadata": {
    "scrolled": true
   },
   "outputs": [],
   "source": [
    "import unittest\n",
    "\n",
    "class TestPrepareState(unittest.TestCase):\n",
    "    def test_normalization(self):\n",
    "        amps = [0, 1+1j, 0, 0] # (1 + 1i)|01>  -> ((1 + 1i) / sqrt(2)) |01>\n",
    "        state = prepare_state(amps)\n",
    "        self.assertTrue(np.isclose(np.linalg.norm(state), 1.0))\n",
    "    \n",
    "    def test_dimension(self):\n",
    "        amps = [1, 0, 0, 0] # |00>\n",
    "        state = prepare_state(amps)\n",
    "        self.assertEqual(state.shape, (4,))\n",
    "    \n",
    "    def test_invalid_dimension(self):\n",
    "        with self.assertRaises(ValueError):\n",
    "            prepare_state([1, 0, 0])  # not 2^n\n",
    "\n",
    "unittest.main(argv=[''], verbosity=2, exit=False)"
   ]
  },
  {
   "cell_type": "markdown",
   "id": "ed706fbd-c16d-4b03-a70d-88f9a59ded94",
   "metadata": {},
   "source": [
    "#### Extended solution\n",
    "Since I've tried tackling error correction in task 3, I've put together a quick and dirty library called *qlib* to make my life easier. You can check out the source in the qlib folder.\n",
    "\n",
    "The library focues mainly on density matrices rather than state vectors. A state is initialized similarly to the solution of task 2:"
   ]
  },
  {
   "cell_type": "code",
   "execution_count": 10,
   "id": "349a99a7-5211-4621-8c8a-aa485c78d74c",
   "metadata": {},
   "outputs": [
    {
     "data": {
      "text/plain": [
       "(array([0.5, 0. , 0. , 0.5]), array([1., 0., 0., 0., 0., 0., 0., 0.]))"
      ]
     },
     "execution_count": 10,
     "metadata": {},
     "output_type": "execute_result"
    }
   ],
   "source": [
    "import qlib as ql\n",
    "\n",
    "two_qubit_state = ql.State(amplitudes=[1, 0, 0, 1])  # \\phi^+ bell state\n",
    "three_qubit_state = ql.State(num_qubits=3) # |000> state\n",
    "\n",
    "two_qubit_state.probabilities(), three_qubit_state.probabilities()"
   ]
  },
  {
   "cell_type": "markdown",
   "id": "b7c6e0ae-12ad-49fc-9fd1-b0b36627b155",
   "metadata": {},
   "source": [
    "Basic circuit functionality is supported via the Circuit class:"
   ]
  },
  {
   "cell_type": "code",
   "execution_count": 14,
   "id": "56423c6b-af06-49ba-bccf-4ccca6d0e112",
   "metadata": {},
   "outputs": [
    {
     "data": {
      "text/plain": [
       "(array([0.5, 0. , 0. , 0.5]), array([0. , 0.5, 0.5, 0. ]))"
      ]
     },
     "execution_count": 14,
     "metadata": {},
     "output_type": "execute_result"
    }
   ],
   "source": [
    "import qlib as ql\n",
    "\n",
    "bell_circuit = ql.Circuit(num_qubits=2)\n",
    "bell_circuit.add_gate(ql.ops.H, qubit=0)\n",
    "bell_circuit.CNOT(control_qubit=0, target_qubit=1)\n",
    "\n",
    "state_00 = ql.State(amplitudes=[1, 0, 0, 0])\n",
    "state_01 = ql.State(amplitudes=[0, 1, 0, 0])\n",
    "\n",
    "bell_circuit.run(initial_state=state_00) # produces \\phi^+ state\n",
    "bell_circuit.run(initial_state=state_01) # produces \\psi^+ state\n",
    "\n",
    "state_00.probabilities(), state_01.probabilities()"
   ]
  },
  {
   "cell_type": "markdown",
   "id": "aef984a8-d0cb-4b03-a708-d9504125cfb9",
   "metadata": {},
   "source": [
    "Basic noise modelling is also supported via the NoiseModel abstract class:"
   ]
  },
  {
   "cell_type": "code",
   "execution_count": 24,
   "id": "08cab3d8-538c-4056-aab1-cc1c99a0b3c1",
   "metadata": {},
   "outputs": [
    {
     "data": {
      "text/plain": [
       "array([0.2, 0.8])"
      ]
     },
     "execution_count": 24,
     "metadata": {},
     "output_type": "execute_result"
    }
   ],
   "source": [
    "import qlib as ql\n",
    "\n",
    "# Assumes a single qubit system\n",
    "class BitFlipChannel(ql.NoiseModel):\n",
    "    def __init__(self, p: int):\n",
    "        super().__init__()\n",
    "        self.p = p\n",
    "\n",
    "    def apply(self, state: ql.State):\n",
    "        rho = state.matrix\n",
    "        rho_noisy = (1 - self.p) * rho + self.p * (ql.ops.X @ rho @ ql.ops.X)\n",
    "        state.matrix = rho_noisy\n",
    "\n",
    "circuit = ql.Circuit(num_qubits=1)\n",
    "circuit.add_gate(ql.ops.X, qubit=0, noise_model=BitFlipChannel(0.2))   # Noisy X gate\n",
    "\n",
    "state = ql.State(num_qubits=1)\n",
    "circuit.run(initial_state=state)\n",
    "\n",
    "state.probabilities()"
   ]
  },
  {
   "cell_type": "markdown",
   "id": "8a4b8905-a29c-4310-ab29-2037b8810754",
   "metadata": {},
   "source": [
    "Measurement is not fully supported, but expectation values are:"
   ]
  },
  {
   "cell_type": "code",
   "execution_count": 26,
   "id": "ffe3f34a-2c0a-47ae-a087-7516386d1504",
   "metadata": {},
   "outputs": [
    {
     "data": {
      "text/plain": [
       "(np.complex128(0j), np.complex128(0.9999999999999998+0j))"
      ]
     },
     "execution_count": 26,
     "metadata": {},
     "output_type": "execute_result"
    }
   ],
   "source": [
    "import qlib as ql\n",
    "\n",
    "state = ql.State(amplitudes=[1, 1])\n",
    "\n",
    "# <Z> = 0, <X> = 1 because the state is |+>\n",
    "state.expectation_value(ql.ops.Z), state.expectation_value(ql.ops.X)"
   ]
  },
  {
   "cell_type": "markdown",
   "id": "79f89d60-7fc1-4feb-9ccd-f9e3a8193d50",
   "metadata": {},
   "source": [
    "To see the the library in action, take a peek at Task 3, even though it's not fully finished and won't affect admissions :) Feedback is always appreciated!"
   ]
  },
  {
   "cell_type": "markdown",
   "id": "fa1e02b2-d095-4809-9e58-c9c0289d89f9",
   "metadata": {},
   "source": [
    "## Task 3 - Error Correction\n",
    "1. Build a function to create a simple noise model. Introduce a random Pauli (X with “a” probability, Z with “b” probability) into any circuit. Test the noise model with simple circuits. \n",
    "2. Code the quantum repetition code: https://errorcorrectionzoo.org/c/quantum_repetition. Test the code with the noise model and only X errors. Why does the method not work for Z errors? \n",
    "3. Code the Shor code: https://errorcorrectionzoo.org/c/shor_nine. Test the code with your noise model.\n",
    "4. Code the Hamming code: https://errorcorrectionzoo.org/c/hamming743. Test your code with your noise model. \n",
    "5. What are the differences between the Shor and Hamming codes? \n",
    "6. What challenges have you detected in the process of building the error-correcting codes? \n",
    "\n",
    "### Solution\n",
    "---\n",
    "#### 1. Simple Noise Model\n",
    "\n",
    "Theoretically, this is called a quantum channel. A quantum channel $\\mathcal{E}$ maps a state $\\rho$ to another state $\\rho'$. In this case, states are represented via density matrices (or density operators) which are constructed by taking the outer product of a state: $\\rho = \\ket{\\psi}\\bra{\\psi}$.\n",
    "\n",
    "The quantum channel $\\mathcal{E}$ for a random Pauli X, also known as the bit-flip channel, is given by:\n",
    "    $$\\mathcal{E}(\\rho) = (1-p) \\rho + p X \\rho X^\\dagger, $$\n",
    "     where $p$ is the probabiliy that a bit-flip occurs. Similarly, the quantum channel for a random Pauli Z, also know as the phase-flip channel, is given by:\n",
    "    $$\\mathcal{E}(\\rho) = (1-p) \\rho + p Z \\rho Z^\\dagger. $$\n",
    "We can generalize this for any Pauli matrix $M$ and call it a Pauli channel:\n",
    "    $$\\mathcal{E}(\\rho) = (1-p) \\rho + p M \\rho M^\\dagger. $$\n",
    "\n",
    "**NOTE**: I've put together a quick and dirty library called *qlib* to make my life easier. Writing it all out in this notebook makes no practical sense. Refer to Task 2 for further explanation. The library comes with an abstract class called *NoiseModel*, which we should inherit and override the apply method:"
   ]
  },
  {
   "cell_type": "code",
   "execution_count": null,
   "id": "bb4fd4ed-911b-4d83-b335-042d70d4fc8b",
   "metadata": {},
   "outputs": [],
   "source": [
    "import qlib as ql\n",
    "import numpy as np\n",
    "\n",
    "class PauliNoiseModel(ql.NoiseModel):\n",
    "    def __init__(self, a: int, b: int):\n",
    "        super().__init__()\n",
    "        self.a = a\n",
    "        self.b = b\n",
    "    \n",
    "    def pauli_channel(self, rho: np.ndarray, p: int, pauli: np.ndarray) -> np.ndarray:\n",
    "        return (1 - p) * rho + p * (pauli @ rho @ pauli.conj().T)\n",
    "\n",
    "    def apply(self, state: ql.State):\n",
    "        state.matrix = self.pauli_channel(state.matrix, self.a, ql.ops.X)\n",
    "        state.matrix = self.pauli_channel(state.matrix, self.b, ql.ops.Z)"
   ]
  },
  {
   "cell_type": "markdown",
   "id": "f1eddfb7-7d60-434b-bb63-04684a79c491",
   "metadata": {},
   "source": [
    "**NOTE**: The question is a little ambiguous to me, so in the case that you meant apply exactly *one* Pauli gate, then the correct channel would be:\n",
    "   $$ \\mathcal{E}(\\rho) = (1 - a - b) \\rho + a X \\rho X + b Z \\rho Z, $$\n",
    "   where $a$ and $b$ are probabilities for a bit-flip and phase-flip, respectively. The noise model is then just:"
   ]
  },
  {
   "cell_type": "code",
   "execution_count": null,
   "id": "8c5576b8-1cf4-4998-b046-48635ec5691e",
   "metadata": {},
   "outputs": [],
   "source": [
    "class PauliNoiseModel(ql.NoiseModel):\n",
    "    def __init__(self, a: int, b: int):\n",
    "        super().__init__()\n",
    "        \n",
    "        self.a = a\n",
    "        self.b = b\n",
    "        self.prob_sum = a + b\n",
    "\n",
    "        if self.prob_sum > 1 or self.prob_sum < 0:\n",
    "            raise Exception(\"Total probability must be in the range [0, 1]\")\n",
    "    \n",
    "    def channel(self, rho: np.ndarray) -> np.ndarray:\n",
    "        return (1 - self.prob_sum) * rho + self.a * (ql.ops.X @ rho @ ql.ops.X) + self.b * (ql.ops.Z @ rho @ ql.ops.Z)\n",
    "\n",
    "    def apply(self, state: ql.State):\n",
    "        state.matrix = self.channel(state.matrix)"
   ]
  },
  {
   "cell_type": "markdown",
   "id": "ec7c42c2-0c2a-4c01-bd36-efe286d55bc8",
   "metadata": {},
   "source": [
    "From this point on, I assume the sequential approach. We shall now generalize this noise model to a system of $n$ qubits. This is a quite forward step; all we have to do is introduce a qubit parameter for the channel function, and then apply this channel to each qubit independently:"
   ]
  },
  {
   "cell_type": "code",
   "execution_count": 100,
   "id": "c12be746-7a29-4cc6-b225-35950416cddf",
   "metadata": {},
   "outputs": [],
   "source": [
    "import qlib as ql\n",
    "import numpy as np\n",
    "\n",
    "class PauliNoiseModel(ql.NoiseModel):\n",
    "    def __init__(self, a: int, b: int):\n",
    "        super().__init__()\n",
    "        self.a = a\n",
    "        self.b = b\n",
    "    \n",
    "    def pauli_channel(self, rho: np.ndarray, qubit: int, p: int, pauli: np.ndarray) -> np.ndarray:\n",
    "        gate = ql.build_operator(rho, qubit, pauli)\n",
    "        return (1 - p) * rho + p * (gate @ rho @ gate.conj().T)\n",
    "\n",
    "    def apply(self, state: ql.State):\n",
    "        rho_noisy = state.matrix.copy()\n",
    "        \n",
    "        # Apply noise to each physical qubit independently\n",
    "        for qubit in range(state.qubits):\n",
    "            rho_noisy = self.pauli_channel(rho_noisy, qubit, self.a, ql.ops.X)\n",
    "            rho_noisy = self.pauli_channel(rho_noisy, qubit, self.b, ql.ops.Z)\n",
    "\n",
    "        state.matrix = rho_noisy"
   ]
  },
  {
   "cell_type": "markdown",
   "id": "f60cd200-ecbe-4001-8298-a960eafc83bb",
   "metadata": {},
   "source": [
    "You might have noticed the `ql.build_operator(rho, qubit, U)` function. This function builds an operator which is only applied to the specified qubit. If we have a 3 qubit system (dimension of $\\rho$ is $2^3$), then `U_2 = ql.build_operator(rho, 1, U)` produces the following:\n",
    "$$ U_2 = I \\otimes U \\otimes I $$\n",
    "\n",
    "**NOTE**: It should be obvious that in this noise model, we assume that each qubit might *indepedently* experience a bit-flip with probability $a$ and after that a phase-flip with probability $b$. This plays an important role in the next part.\n",
    "\n",
    "#### 2. Repetition code\n",
    "\n",
    "Repetition coding encodes a single qubit $\\ket{\\psi}$ into $n$ qubits. These qubits together are called a *logical qubit* and are usually denoted by $\\ket{\\psi_L}$. The general state of a logical qubit can be described by a superposition:\n",
    "\n",
    "$$ \\ket{\\psi_L} = \\alpha \\ket{0_L} + \\beta \\ket{1_L}. $$\n",
    "\n",
    "We shall consider the case where $n = 3$ for simplicity. The logical basis states are then given by repeating the computational basis states 3 times:\n",
    "$$ \\ket{0_L} \\to \\ket{0}^{\\otimes 3} = \\ket{000}, $$\n",
    "$$ \\ket{1_L} \\to \\ket{1}^{\\otimes 3} = \\ket{111}. $$\n",
    "\n",
    "Error correction is performed in two steps:\n",
    "  - Eigenvalue measurements of *stabilizers* (I like to call them parity operators)\n",
    "  - Flipping a qubit based on the measurement results\n",
    "\n",
    "Stabilizers are a special kind of operator that measure the parity between adjacent qubits. In repetition coding, the set of stabilizers $\\mathcal{S}$ for a $n$ logical qubit is:\n",
    "\n",
    "$$ \\mathcal{S} = \\{ Z_1 Z_2, \\dots, Z_{n - 1} Z_n  \\}, $$\n",
    "\n",
    "where the subscripts indicate which qubit the operator operates on. In our case of $n = 3$, the set becomes:\n",
    "\n",
    "$$ \\mathcal{S} = \\{ Z Z I, I Z Z  \\}, $$\n",
    "\n",
    "where $Z Z I$ is shorthand notation for $Z \\otimes Z \\otimes I$, and so on. These two stabilizers have the following measurement outcomes:\n",
    "  - $ZZI$ returns +1 if qubits 1 and 2 have the same value, -1 if different\n",
    "  - $IZZ$ returns +1 if qubits 2 and 3 have the same value, -1 if different\n",
    "  - **NOTE**: In other words, +1 and -1 are the eigenvalues of stabilizers\n",
    "\n",
    "The following table provides the correction step based on the outcome of measuring ZZI and IZZ.\n",
    "| Error     | State after error                      | ZZI | IZZ | Correction |\n",
    "| --------  | -------------------------------------  | -- | -- | ------------ |\n",
    "| None      | $\\alpha \\ket{000} + \\beta \\ket{111}$   | +1 | +1 | None         |\n",
    "| Qubit 1   | $\\alpha \\ket{100} + \\beta \\ket{011}$   | -1 | +1 | Flip qubit 1 |\n",
    "| Qubit 2   | $\\alpha \\ket{010} + \\beta \\ket{101}$   | -1 | -1 | Flip qubit 2 | \n",
    "| Qubit 3   | $\\alpha \\ket{001} + \\beta \\ket{110}$   | +1 | -1 | Flip qubit 3 |\n",
    "\n",
    "For phase-flip (Z) errors:\n",
    "   - $Z_1|\\psi_L\\rangle = \\alpha|000\\rangle - \\beta|111\\rangle$\n",
    "   - $Z_2|\\psi_L\\rangle = \\alpha|000\\rangle - \\beta|111\\rangle$\n",
    "   - $Z_3|\\psi_L\\rangle = \\alpha|000\\rangle - \\beta|111\\rangle$\n",
    "\n",
    "All Z errors produce the same state (differing only by a global phase), so the stabilizers cannot distinguish between them."
   ]
  },
  {
   "cell_type": "code",
   "execution_count": 101,
   "id": "d3ebce96-f01f-477f-9170-4e5a2e2ea6e3",
   "metadata": {},
   "outputs": [],
   "source": [
    "import qlib as ql\n",
    "import numpy as np\n",
    "\n",
    "def repetition_code_correction(state: ql.State):\n",
    "    num_qubits = state.qubits\n",
    "    if num_qubits != 3:\n",
    "        raise ValueError(\"Repetition code requires 3 qubits\")\n",
    "    \n",
    "    # Stabilizers\n",
    "    ZZI = ql.build_operators(state.matrix, [0, 1], [ql.ops.Z, ql.ops.Z])\n",
    "    IZZ = ql.build_operators(state.matrix, [1, 2], [ql.ops.Z, ql.ops.Z])\n",
    "    \n",
    "    # Measurement\n",
    "    # Expectation value gives the average value, so it's not going to be +1 or -1 exactly\n",
    "    synd1 = state.expectation_value(ZZI)\n",
    "    synd2 = state.expectation_value(IZZ)\n",
    "\n",
    "    correction_applied = \"None\"\n",
    "    if synd1 < 0 and synd2 > 0:  # (-1, +1)\n",
    "        state.apply_gate(ql.ops.X, (0,))\n",
    "        correction_applied = \"X on qubit 0\"\n",
    "    elif synd1 < 0 and synd2 < 0:  # (-1, -1)  \n",
    "        state.apply_gate(ql.ops.X, (1,))\n",
    "        correction_applied = \"X on qubit 1\"\n",
    "    elif synd1 > 0 and synd2 < 0:  # (+1, -1)\n",
    "        state.apply_gate(ql.ops.X, (2,))\n",
    "        correction_applied = \"X on qubit 2\"\n",
    "\n",
    "    return synd1, synd2, correction_applied"
   ]
  },
  {
   "cell_type": "markdown",
   "id": "4e31f7d3-fe3b-4bdf-ad4e-17182adb4046",
   "metadata": {},
   "source": [
    "The following is a *deterministic error* (noiseless) test of the correction function with a single bit flip. The initial logical state $\\ket{\\psi_L}$ is given by an equal superposition:\n",
    "\n",
    "$$ \\ket{\\psi_L} = \\frac{1}{\\sqrt{2}} ( \\ket{0_L} + \\ket{1_L} ) = \\frac{1}{\\sqrt{2}} ( \\ket{000} + \\ket{111} ). $$\n",
    "\n",
    "Every bit is flipped one by one, corrected and then the results are documented."
   ]
  },
  {
   "cell_type": "code",
   "execution_count": 112,
   "id": "b67de467-1df8-4734-a5c3-ea0458f6f740",
   "metadata": {},
   "outputs": [
    {
     "data": {
      "text/html": [
       "<center><table border=\"1\" class=\"dataframe\">\n",
       "  <thead>\n",
       "    <tr style=\"text-align: right;\">\n",
       "      <th></th>\n",
       "      <th>Error</th>\n",
       "      <th>State after error</th>\n",
       "      <th>ZZI</th>\n",
       "      <th>IZZ</th>\n",
       "      <th>Correction</th>\n",
       "      <th>State after correction</th>\n",
       "    </tr>\n",
       "  </thead>\n",
       "  <tbody>\n",
       "    <tr>\n",
       "      <th>0</th>\n",
       "      <td>Qubit 0</td>\n",
       "      <td>P(011) = 0.500<br>P(100) = 0.500</td>\n",
       "      <td>-1.0</td>\n",
       "      <td>1.0</td>\n",
       "      <td>X on qubit 0</td>\n",
       "      <td>P(000) = 0.500<br>P(111) = 0.500</td>\n",
       "    </tr>\n",
       "    <tr>\n",
       "      <th>1</th>\n",
       "      <td>Qubit 1</td>\n",
       "      <td>P(010) = 0.500<br>P(101) = 0.500</td>\n",
       "      <td>-1.0</td>\n",
       "      <td>-1.0</td>\n",
       "      <td>X on qubit 1</td>\n",
       "      <td>P(000) = 0.500<br>P(111) = 0.500</td>\n",
       "    </tr>\n",
       "    <tr>\n",
       "      <th>2</th>\n",
       "      <td>Qubit 2</td>\n",
       "      <td>P(001) = 0.500<br>P(110) = 0.500</td>\n",
       "      <td>1.0</td>\n",
       "      <td>-1.0</td>\n",
       "      <td>X on qubit 2</td>\n",
       "      <td>P(000) = 0.500<br>P(111) = 0.500</td>\n",
       "    </tr>\n",
       "  </tbody>\n",
       "</table></center>"
      ],
      "text/plain": [
       "<IPython.core.display.HTML object>"
      ]
     },
     "metadata": {},
     "output_type": "display_data"
    }
   ],
   "source": [
    "import pandas as pd\n",
    "from IPython.display import display, HTML\n",
    "\n",
    "states_error = []\n",
    "states_corrected = []\n",
    "syndromes = []\n",
    "\n",
    "for i in range(3):\n",
    "    original_state = ql.State(amplitudes=[1, 0, 0, 0, 0, 0, 0, 1])  # 1/sqrt(2)(|0_L> + |1_L>) = 1/sqrt(2)(|000> + |111>)\n",
    "    \n",
    "    circuit = ql.Circuit(num_qubits=3)\n",
    "    circuit.add_gate(ql.ops.X, qubit=i) # Apply a specific X error to qubit 0\n",
    "    state = circuit.run(initial_state=original_state)\n",
    "    temp_for_table = []\n",
    "    \n",
    "    for i, prob in enumerate(state.matrix.diagonal()):\n",
    "        if abs(prob) > 0.001:\n",
    "            temp_for_table.append(f\"P({i:03b}) = {np.abs(prob):.3f}\")\n",
    "\n",
    "    states_error.append('\\n'.join(temp_for_table))\n",
    "    (synd1, synd2, corr) = repetition_code_correction(state)\n",
    "\n",
    "    syndromes.append((synd1, synd2, corr))\n",
    "\n",
    "    temp_for_table.clear()\n",
    "    for i, prob in enumerate(state.matrix.diagonal()):\n",
    "        if abs(prob) > 0.001:\n",
    "            temp_for_table.append(f\"P({i:03b}) = {np.abs(prob):.3f}\")\n",
    "\n",
    "    states_corrected.append('\\n'.join(temp_for_table))\n",
    "\n",
    "data = {\n",
    "    \"Error\": [\"Qubit 0\", \"Qubit 1\", \"Qubit 2\"],\n",
    "    \"State after error\": states_error,\n",
    "    \"ZZI\": [v[0].real for v in syndromes],\n",
    "    \"IZZ\": [v[1].real for v in syndromes],\n",
    "    \"Correction\": [v[2] for v in syndromes],\n",
    "    \"State after correction\": states_corrected\n",
    "}\n",
    "\n",
    "df = pd.DataFrame(data)\n",
    "display(HTML(\"<center>\" + df.to_html().replace(\"\\\\n\",\"<br>\") + \"</center>\")) # I don't understand why pandas doesn't just allow new lines..."
   ]
  },
  {
   "cell_type": "markdown",
   "id": "865aaf5c-82d3-43c9-9948-09141bf89519",
   "metadata": {},
   "source": [
    "The following is the same test but with the noise model from step 1. The probabiliy of a bit-flip occuring for each qubit is $a = 0.8$."
   ]
  },
  {
   "cell_type": "code",
   "execution_count": 103,
   "id": "dbeb86ca-5100-48f5-8cf0-a617c42e45ff",
   "metadata": {},
   "outputs": [
    {
     "data": {
      "text/html": [
       "<center><table border=\"1\" class=\"dataframe\">\n",
       "  <thead>\n",
       "    <tr style=\"text-align: right;\">\n",
       "      <th></th>\n",
       "      <th>Error</th>\n",
       "      <th>State after error</th>\n",
       "      <th>ZZI</th>\n",
       "      <th>IZZ</th>\n",
       "      <th>Correction</th>\n",
       "      <th>State after correction</th>\n",
       "    </tr>\n",
       "  </thead>\n",
       "  <tbody>\n",
       "    <tr>\n",
       "      <th>0</th>\n",
       "      <td>Qubit 0</td>\n",
       "      <td>P(000) = 0.080<br>P(001) = 0.080<br>P(010) = 0.080<br>P(011) = 0.260<br>P(100) = 0.260<br>P(101) = 0.080<br>P(110) = 0.080<br>P(111) = 0.080</td>\n",
       "      <td>-0.36</td>\n",
       "      <td>0.36</td>\n",
       "      <td>X on qubit 0</td>\n",
       "      <td>P(000) = 0.260<br>P(001) = 0.080<br>P(010) = 0.080<br>P(011) = 0.080<br>P(100) = 0.080<br>P(101) = 0.080<br>P(110) = 0.080<br>P(111) = 0.260</td>\n",
       "    </tr>\n",
       "    <tr>\n",
       "      <th>1</th>\n",
       "      <td>Qubit 1</td>\n",
       "      <td>P(000) = 0.080<br>P(001) = 0.080<br>P(010) = 0.260<br>P(011) = 0.080<br>P(100) = 0.080<br>P(101) = 0.260<br>P(110) = 0.080<br>P(111) = 0.080</td>\n",
       "      <td>-0.36</td>\n",
       "      <td>-0.36</td>\n",
       "      <td>X on qubit 1</td>\n",
       "      <td>P(000) = 0.260<br>P(001) = 0.080<br>P(010) = 0.080<br>P(011) = 0.080<br>P(100) = 0.080<br>P(101) = 0.080<br>P(110) = 0.080<br>P(111) = 0.260</td>\n",
       "    </tr>\n",
       "    <tr>\n",
       "      <th>2</th>\n",
       "      <td>Qubit 2</td>\n",
       "      <td>P(000) = 0.080<br>P(001) = 0.260<br>P(010) = 0.080<br>P(011) = 0.080<br>P(100) = 0.080<br>P(101) = 0.080<br>P(110) = 0.260<br>P(111) = 0.080</td>\n",
       "      <td>0.36</td>\n",
       "      <td>-0.36</td>\n",
       "      <td>X on qubit 2</td>\n",
       "      <td>P(000) = 0.260<br>P(001) = 0.080<br>P(010) = 0.080<br>P(011) = 0.080<br>P(100) = 0.080<br>P(101) = 0.080<br>P(110) = 0.080<br>P(111) = 0.260</td>\n",
       "    </tr>\n",
       "  </tbody>\n",
       "</table></center>"
      ],
      "text/plain": [
       "<IPython.core.display.HTML object>"
      ]
     },
     "metadata": {},
     "output_type": "display_data"
    }
   ],
   "source": [
    "import pandas as pd\n",
    "from IPython.display import display, HTML\n",
    "\n",
    "states_error = []\n",
    "states_corrected = []\n",
    "syndromes = []\n",
    "\n",
    "for i in range(3):\n",
    "    original_state = ql.State(amplitudes=[1, 0, 0, 0, 0, 0, 0, 1])  # 1/sqrt(2)(|0_L> + |1_L>) = 1/sqrt(2)(|000> + |111>)\n",
    "    \n",
    "    circuit = ql.Circuit(num_qubits=3)\n",
    "    circuit.add_gate(ql.ops.X, qubit=i) # Apply a specific X error to qubit 0\n",
    "    state = circuit.run(initial_state=original_state, noise_model=PauliNoiseModel(0.8, 0))\n",
    "    temp_for_table = []\n",
    "    \n",
    "    for i, prob in enumerate(state.matrix.diagonal()):\n",
    "        if abs(prob) > 0.001:\n",
    "            temp_for_table.append(f\"P({i:03b}) = {np.abs(prob):.3f}\")\n",
    "\n",
    "    states_error.append('\\n'.join(temp_for_table))\n",
    "    (synd1, synd2, corr) = repetition_code_correction(state)\n",
    "\n",
    "    syndromes.append((synd1, synd2, corr))\n",
    "\n",
    "    temp_for_table.clear()\n",
    "    for i, prob in enumerate(state.matrix.diagonal()):\n",
    "        if abs(prob) > 0.001:\n",
    "            temp_for_table.append(f\"P({i:03b}) = {np.abs(prob):.3f}\")\n",
    "\n",
    "    states_corrected.append('\\n'.join(temp_for_table))\n",
    "\n",
    "data = {\n",
    "    \"Error\": [\"Qubit 0\", \"Qubit 1\", \"Qubit 2\"],\n",
    "    \"State after error\": states_error,\n",
    "    \"ZZI\": [v[0].real for v in syndromes],\n",
    "    \"IZZ\": [v[1].real for v in syndromes],\n",
    "    \"Correction\": [v[2] for v in syndromes],\n",
    "    \"State after correction\": states_corrected\n",
    "}\n",
    "\n",
    "df = pd.DataFrame(data)\n",
    "display(HTML(\"<center>\" + df.to_html().replace(\"\\\\n\",\"<br>\") + \"</center>\")) # I don't understand why pandas doesn't just allow new lines..."
   ]
  },
  {
   "attachments": {},
   "cell_type": "markdown",
   "id": "d36f330d-6d93-4f7c-87f6-34d1150f61c4",
   "metadata": {},
   "source": [
    "We can see that after correction, the states $\\ket{000} = \\ket{0_L}$ and $\\ket{111} = \\ket{1_L}$ stand out from the rest. The rest have probabilty of being measured due to:\n",
    "\n",
    "- Residual uncorrected errors\n",
    "- Multiple error combinations\n",
    "\n",
    "This happens because we introduced noise into the system, but the trend is clearly toward correction.\n",
    "\n",
    "Let's discuss practical implementation for a moment. To create the logical qubit state, we would use two CNOT gates to entangle two additional repeated qubits. Then, any unitary we want to perform on the logical qubit, we have to perform for all of the qubits: $U^{\\otimes 3} = U \\otimes U \\otimes U$. In the circuit shown, $U$ represents a circuit operating on the logical qubit and possibly some noise.\n",
    "\n",
    "<center><img src=\"img/repeatingcodeimpl.png\"/></center>\n",
    "\n",
    "After the circuit $U$ has been performed, we peform error correction. We introduce two ancilla qubits, which are used for stabilizer measurements. The first pair of CNOTs represent the stabilizer $ZZI$ and the second pair $IZZ$. We then measure these two ancilla qubits, and we pass the results (+1 being classical bit 0, and -1 being classical bit 1) to a field programmable gate array or microcontroller which then decides which qubits to flip."
   ]
  }
 ],
 "metadata": {
  "kernelspec": {
   "display_name": "Python 3",
   "language": "python",
   "name": "python3"
  },
  "language_info": {
   "codemirror_mode": {
    "name": "ipython",
    "version": 3
   },
   "file_extension": ".py",
   "mimetype": "text/x-python",
   "name": "python",
   "nbconvert_exporter": "python",
   "pygments_lexer": "ipython3",
   "version": "3.12.0"
  }
 },
 "nbformat": 4,
 "nbformat_minor": 5
}
