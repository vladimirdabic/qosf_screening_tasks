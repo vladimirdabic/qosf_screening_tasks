{
 "cells": [
  {
   "cell_type": "markdown",
   "id": "9842921e-524b-45c2-9d89-41facda21057",
   "metadata": {},
   "source": [
    "## Task 2 - Complex Amplitudes\n",
    "**Input**: A list or array of four complex amplitudes `[a0, a1, a2, a3]` that define the desired two-qubit state.\n",
    "   - Ensure that the state is normalized:\n",
    "     $|a_0|^2 + |a_1|^2 + |a_2|^2 + |a_3|^2 = 1$.\n",
    "   - If the input is not normalized, include a normalization step.\n",
    "\n",
    "**Output**: A representation of the two-qubit quantum state vector, for example as a NumPy array:\n",
    "     $\\ket{\\psi} = a_0\\ket{00} + a_1\\ket{01} + a_2\\ket{10} + a_3\\ket{11}.$\n",
    " \n",
    " - Do not use quantum-specific state preparation functions from libraries.\n",
    "\n",
    "**Testing**:\n",
    "   - Write unit tests that check:\n",
    "     - Normalization is enforced.\n",
    "     - The output vector has the correct dimension (4 for two qubits).\n",
    "\n",
    "**Stretch Goal**: Generalize the implementation to support a three-qubit state given 8 amplitudes.\n",
    "\n",
    "### Solution\n",
    "---\n",
    "The following solution is already generalized to $n$ qubits. The number of amplitudes must be $2^n$. I think this solution is pretty self-explanatory, you just take an array of complex numbers, normalize them if needed, and check the dimensionality."
   ]
  },
  {
   "cell_type": "code",
   "execution_count": 3,
   "id": "e1a759e0-d2f3-4d05-a43f-31188583d465",
   "metadata": {},
   "outputs": [],
   "source": [
    "import numpy as np\n",
    "\n",
    "def prepare_state(amplitudes):\n",
    "    state = np.array(amplitudes, dtype=np.complex128)\n",
    "\n",
    "    # Normalize if sum is not 1\n",
    "    norm = np.linalg.norm(state)\n",
    "    if not np.isclose(norm, 1.0):\n",
    "        state = state / norm\n",
    "\n",
    "    # Check dimension (must be 2^n)\n",
    "    n_qubits = int(np.log2(len(state)))\n",
    "    if 2**n_qubits != len(state):\n",
    "        raise ValueError(\"Number of amplitudes must be 2^n for n qubits\")\n",
    "    \n",
    "    return state"
   ]
  },
  {
   "cell_type": "markdown",
   "id": "767d56d2-9a1b-49fc-9ae3-7d954930cf69",
   "metadata": {},
   "source": [
    "The unit tests are provided below."
   ]
  },
  {
   "cell_type": "code",
   "execution_count": 4,
   "id": "d5926ed8-ebfc-4a7a-a5cb-53d85261feaa",
   "metadata": {},
   "outputs": [
    {
     "name": "stderr",
     "output_type": "stream",
     "text": [
      "test_dimension (__main__.TestPrepareState.test_dimension) ... ok\n",
      "test_invalid_dimension (__main__.TestPrepareState.test_invalid_dimension) ... ok\n",
      "test_normalization (__main__.TestPrepareState.test_normalization) ... ok\n",
      "\n",
      "----------------------------------------------------------------------\n",
      "Ran 3 tests in 0.003s\n",
      "\n",
      "OK\n"
     ]
    },
    {
     "data": {
      "text/plain": [
       "<unittest.main.TestProgram at 0x27ff40f3c80>"
      ]
     },
     "execution_count": 4,
     "metadata": {},
     "output_type": "execute_result"
    }
   ],
   "source": [
    "import unittest\n",
    "\n",
    "class TestPrepareState(unittest.TestCase):\n",
    "    def test_normalization(self):\n",
    "        amps = [0, 1+1j, 0, 0] # (1 + 1i)|01>  -> ((1 + 1i) / sqrt(2)) |01>\n",
    "        state = prepare_state(amps)\n",
    "        self.assertTrue(np.isclose(np.linalg.norm(state), 1.0))\n",
    "    \n",
    "    def test_dimension(self):\n",
    "        amps = [1, 0, 0, 0] # |00>\n",
    "        state = prepare_state(amps)\n",
    "        self.assertEqual(state.shape, (4,))\n",
    "    \n",
    "    def test_invalid_dimension(self):\n",
    "        with self.assertRaises(ValueError):\n",
    "            prepare_state([1, 0, 0])  # not 2^n\n",
    "\n",
    "unittest.main(argv=[''], verbosity=2, exit=False)"
   ]
  },
  {
   "cell_type": "markdown",
   "id": "ac545a53-19d7-4b03-9c5e-48519125e41c",
   "metadata": {},
   "source": [
    "#### Extended solution\n",
    "Since I've tried tackling error correction in task 3, I've put together a quick and dirty library called *qlib* to make my life easier. You can check out the source in the qlib folder, and you can also find it on my github under the name [qipy](https://github.com/vladimirdabic/qipy).\n",
    "\n",
    "The library focues mainly on density matrices rather than state vectors. It supports two types of simulation: dense and sparse. In dense simulation, it represents the density matrix as a numpy matrix, and performs direct operations on it. In sparse simulation, it represents the density matrix as a list of terms with coefficients. These terms represent entries into the density matrix.\n",
    "\n",
    "**NOTE**: The sparse simulation stores only *non-zero* density matrix elements. For states with few non-zero terms, this can significantly reduce memory usage compared to storing the full $2^n \\times 2^n$ matrix. However, as the number of terms grows, the sparse representation becomes less efficient than dense arrays.\n",
    "\n",
    "The following examples use the dense simulation. Switching between dense and sparse is not too difficult, as all important functions and classes share the same signature. A state is initialized similarly to the solution of task 2:"
   ]
  },
  {
   "cell_type": "code",
   "execution_count": 5,
   "id": "f7b5118e-a0a8-45b3-b6f4-e505fb717871",
   "metadata": {},
   "outputs": [
    {
     "data": {
      "text/latex": [
       "$$\\rho_{\\Phi^+} = \\frac{1}{2}|00\\rangle\\langle 00| + \\frac{1}{2}|00\\rangle\\langle 11| + \\frac{1}{2}|11\\rangle\\langle 00| + \\frac{1}{2}|11\\rangle\\langle 11|$$"
      ],
      "text/plain": [
       "\\rho_{\\Phi^+} = \\frac{1}{2}|00\\rangle\\langle 00| + \\frac{1}{2}|00\\rangle\\langle 11| + \\frac{1}{2}|11\\rangle\\langle 00| + \\frac{1}{2}|11\\rangle\\langle 11|"
      ]
     },
     "metadata": {},
     "output_type": "display_data"
    },
    {
     "data": {
      "text/latex": [
       "$$\\rho_{\\text{three}} = |000\\rangle\\langle 000|$$"
      ],
      "text/plain": [
       "\\rho_{\\text{three}} = |000\\rangle\\langle 000|"
      ]
     },
     "metadata": {},
     "output_type": "display_data"
    }
   ],
   "source": [
    "import qlib.dense as qld\n",
    "import qlib as ql\n",
    "\n",
    "two_qubit_state = qld.State(amplitudes=[1, 0, 0, 1], latex_symbol=r\"\\rho_{\\Phi^+}\")  # \\phi^+ bell state\n",
    "three_qubit_state = qld.State(num_qubits=3, latex_symbol=r\"\\rho_{\\text{three}}\") # |000> state\n",
    "\n",
    "display(two_qubit_state, three_qubit_state)"
   ]
  },
  {
   "cell_type": "markdown",
   "id": "9fa22770-9a53-4d0e-a0a1-fa1e1ef6e6a8",
   "metadata": {},
   "source": [
    "As you can see, a $\\LaTeX$ representation is supported, which is quite nice :)\n",
    "\n",
    "Basic circuit functionality is supported via the Circuit class:"
   ]
  },
  {
   "cell_type": "code",
   "execution_count": 7,
   "id": "d240dab4-1147-4fbc-b780-d3171917b468",
   "metadata": {},
   "outputs": [
    {
     "data": {
      "text/latex": [
       "$$\\rho = |00\\rangle\\langle 00| \\, \\to \\, \\rho_{\\Phi^+} = \\frac{1}{2}|00\\rangle\\langle 00| + \\frac{1}{2}|00\\rangle\\langle 11| + \\frac{1}{2}|11\\rangle\\langle 00| + \\frac{1}{2}|11\\rangle\\langle 11|$$"
      ],
      "text/plain": [
       "<IPython.core.display.Latex object>"
      ]
     },
     "metadata": {},
     "output_type": "display_data"
    },
    {
     "data": {
      "text/latex": [
       "$$\\rho = |01\\rangle\\langle 01| \\, \\to \\,\\rho_{\\Psi^+} = \\frac{1}{2}|01\\rangle\\langle 01| + \\frac{1}{2}|01\\rangle\\langle 10| + \\frac{1}{2}|10\\rangle\\langle 01| + \\frac{1}{2}|10\\rangle\\langle 10|$$"
      ],
      "text/plain": [
       "<IPython.core.display.Latex object>"
      ]
     },
     "metadata": {},
     "output_type": "display_data"
    }
   ],
   "source": [
    "import qlib.dense as qld\n",
    "import qlib as ql\n",
    "from IPython.display import Latex\n",
    "\n",
    "bell_circuit = qld.Circuit(num_qubits=2)\n",
    "bell_circuit.add_gate(ql.ops.H, qubit=0)\n",
    "bell_circuit.CNOT(control_qubit=0, target_qubit=1)\n",
    "\n",
    "state_00 = qld.State(amplitudes=[1, 0, 0, 0])\n",
    "state_01 = qld.State(amplitudes=[0, 1, 0, 0])\n",
    "\n",
    "final1 = bell_circuit.run(initial_state=state_00) # produces \\phi^+ state\n",
    "final2 = bell_circuit.run(initial_state=state_01) # produces \\psi^+ state\n",
    "\n",
    "final1.latex_symbol=r\"\\rho_{\\Phi^+}\"\n",
    "final2.latex_symbol=r\"\\rho_{\\Psi^+}\"\n",
    "\n",
    "display(Latex(\"$$\" + state_00.to_latex() + r\" \\, \\to \\, \" + final1.to_latex() + \"$$\"))\n",
    "display(Latex(\"$$\" + state_01.to_latex() + r\" \\, \\to \\,\" + final2.to_latex() + \"$$\"))"
   ]
  },
  {
   "cell_type": "markdown",
   "id": "3594360d-488c-4037-82ce-fa6023d42739",
   "metadata": {},
   "source": [
    "Basic noise modelling is also supported via the NoiseModel abstract class:"
   ]
  },
  {
   "cell_type": "code",
   "execution_count": 8,
   "id": "6bbd2453-e275-4267-84db-bd8643777450",
   "metadata": {},
   "outputs": [
    {
     "data": {
      "text/latex": [
       "$$\\rho = \\frac{1}{5}|0\\rangle\\langle 0| + \\frac{4}{5}|1\\rangle\\langle 1|$$"
      ],
      "text/plain": [
       "\\rho = \\frac{1}{5}|0\\rangle\\langle 0| + \\frac{4}{5}|1\\rangle\\langle 1|"
      ]
     },
     "execution_count": 8,
     "metadata": {},
     "output_type": "execute_result"
    }
   ],
   "source": [
    "import qlib as ql\n",
    "import qlib.dense as qld\n",
    "\n",
    "# Assumes a single qubit system\n",
    "class BitFlipChannel(qld.NoiseModel):\n",
    "    def __init__(self, p: int):\n",
    "        super().__init__()\n",
    "        self.p = p\n",
    "\n",
    "    def apply(self, state: qld.State):\n",
    "        rho = state.matrix\n",
    "        rho_noisy = (1 - self.p) * rho + self.p * (ql.ops.X @ rho @ ql.ops.X)\n",
    "        state.matrix = rho_noisy\n",
    "\n",
    "circuit = qld.Circuit(num_qubits=1)\n",
    "circuit.add_gate(ql.ops.X, qubit=0, noise_model=BitFlipChannel(0.2))   # Noisy X gate\n",
    "\n",
    "state = qld.State(num_qubits=1)\n",
    "final = circuit.run(initial_state=state)\n",
    "\n",
    "final"
   ]
  },
  {
   "cell_type": "markdown",
   "id": "c1702432-b2fd-4bce-b54f-23ff5dd6112e",
   "metadata": {},
   "source": [
    "Below is an example of measuring the output of the Bell circuit with multiple shots using the sparse simulation."
   ]
  },
  {
   "cell_type": "code",
   "execution_count": 9,
   "id": "dcf0cfaf-7042-4e76-a713-19c9b87f17f7",
   "metadata": {},
   "outputs": [
    {
     "data": {
      "text/plain": [
       "{'00': 57, '11': 43}"
      ]
     },
     "execution_count": 9,
     "metadata": {},
     "output_type": "execute_result"
    }
   ],
   "source": [
    "import qlib as ql\n",
    "import qlib.sparse as qls\n",
    "\n",
    "circuit = qls.Circuit(num_qubits=2)\n",
    "circuit.add_gate(ql.ops.H, qubit=0)\n",
    "circuit.CNOT(control_qubit=0, target_qubit=1)\n",
    "\n",
    "state = qls.State(num_qubits=2)\n",
    "results = {}\n",
    "\n",
    "# run_shots yields the final state for each run\n",
    "for final in circuit.run_shots(initial_state=state, shots=100):\n",
    "    meas_res = final.measure(qubits=[0, 1])\n",
    "    res_str = ''.join(str(i) for i in meas_res)\n",
    "\n",
    "    results[res_str] = results.get(res_str, 0) + 1\n",
    "\n",
    "results"
   ]
  }
 ],
 "metadata": {
  "kernelspec": {
   "display_name": "Python 3",
   "language": "python",
   "name": "python3"
  },
  "language_info": {
   "codemirror_mode": {
    "name": "ipython",
    "version": 3
   },
   "file_extension": ".py",
   "mimetype": "text/x-python",
   "name": "python",
   "nbconvert_exporter": "python",
   "pygments_lexer": "ipython3",
   "version": "3.12.0"
  }
 },
 "nbformat": 4,
 "nbformat_minor": 5
}
